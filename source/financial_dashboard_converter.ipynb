{
 "cells": [
  {
   "cell_type": "code",
   "execution_count": 6,
   "id": "b0135f22-4aef-4084-aacb-d288676f6e7a",
   "metadata": {},
   "outputs": [
    {
     "name": "stdout",
     "output_type": "stream",
     "text": [
      "Launching server at http://localhost:54566\n"
     ]
    },
    {
     "data": {
      "text/plain": [
       "<panel.io.server.Server at 0x7fb2a573d450>"
      ]
     },
     "execution_count": 6,
     "metadata": {},
     "output_type": "execute_result"
    },
    {
     "name": "stderr",
     "output_type": "stream",
     "text": [
      "WARNING:tornado.access:404 GET /favicon.ico (::1) 0.46ms\n"
     ]
    }
   ],
   "source": [
    "# Import Libraries, Modules & Dependencies\n",
    "import panel as pn\n",
    "import requests\n",
    "\n",
    "# Initialize Panel Resources\n",
    "pn.extension()\n",
    "\n",
    "# Get CoinGecko coins list\n",
    "def get_coingecko_coins():\n",
    "    url = 'https://api.coingecko.com/api/v3/coins/list'\n",
    "    response = requests.get(url)\n",
    "    data = response.json()\n",
    "    coin_dict = {coin['symbol'].upper(): coin['id'] for coin in data}\n",
    "    return coin_dict\n",
    "\n",
    "coin_dict = get_coingecko_coins()\n",
    "\n",
    "# Define a list of fiat currency codes\n",
    "currencies = ['USD', 'EUR', 'JPY', 'GBP', 'AUD', 'CAD', 'CHF', 'CNY', 'SEK', 'NZD', 'SGD']\n",
    "\n",
    "# Get price from CoinGecko\n",
    "def get_price(from_currency, to_currency):\n",
    "    if from_currency in coin_dict:\n",
    "        from_currency_id = coin_dict[from_currency]\n",
    "    else:\n",
    "        from_currency_id = from_currency.lower()\n",
    "\n",
    "    if to_currency in coin_dict:\n",
    "        to_currency_id = coin_dict[to_currency]\n",
    "    else:\n",
    "        to_currency_id = to_currency.lower()\n",
    "\n",
    "    if from_currency in currencies:\n",
    "        vs_currency = from_currency.lower()\n",
    "        url = f'https://api.coingecko.com/api/v3/simple/price?ids={to_currency_id}&vs_currencies={vs_currency}'\n",
    "        response = requests.get(url)\n",
    "        data = response.json()\n",
    "        conversion_rate = data[to_currency_id][vs_currency]\n",
    "    elif to_currency in currencies:\n",
    "        vs_currency = to_currency.lower()\n",
    "        url = f'https://api.coingecko.com/api/v3/simple/price?ids={from_currency_id}&vs_currencies={vs_currency}'\n",
    "        response = requests.get(url)\n",
    "        data = response.json()\n",
    "        conversion_rate = 1 / data[from_currency_id][vs_currency]\n",
    "    else:\n",
    "        vs_currency = 'usd'\n",
    "        url = f'https://api.coingecko.com/api/v3/simple/price?ids={from_currency_id},{to_currency_id}&vs_currencies={vs_currency}'\n",
    "        response = requests.get(url)\n",
    "        data = response.json()\n",
    "        from_currency_rate = data[from_currency_id][vs_currency]\n",
    "        to_currency_rate = data[to_currency_id][vs_currency]\n",
    "        conversion_rate = to_currency_rate / from_currency_rate\n",
    "\n",
    "    return conversion_rate\n",
    "\n",
    "\n",
    "# Create widgets\n",
    "from_currency_widget = pn.widgets.AutocompleteInput(name='From: Fiat or Crypto', options=list(coin_dict.keys()) + currencies, value='AUD')\n",
    "to_currency_widget = pn.widgets.AutocompleteInput(name='To: Crypto or Fiat', options=list(coin_dict.keys()) + currencies, value='XRP')\n",
    "amount_widget = pn.widgets.FloatInput(name='Amount', value=1.0)\n",
    "\n",
    "# Modify the convert_currencies function to use CoinGecko API for both crypto and fiat conversions\n",
    "def convert_currencies(from_currency, to_currency, amount):\n",
    "    if from_currency == to_currency:\n",
    "        return amount\n",
    "    else:\n",
    "        price = get_price(from_currency, to_currency)\n",
    "        return round(amount * price, 8)\n",
    "\n",
    "# Update the conversion result when the button is clicked\n",
    "def update_conversion_result(event):\n",
    "    from_currency = from_currency_widget.value\n",
    "    to_currency = to_currency_widget.value\n",
    "    amount = amount_widget.value\n",
    "    result = convert_currencies(from_currency, to_currency, amount)\n",
    "    conversion_result_widget.value = f'{amount} {to_currency.upper()} = {result} {from_currency.upper()}'\n",
    "\n",
    "\n",
    "# Create result widget and button with cell-like appearance\n",
    "conversion_result_widget = pn.widgets.TextInput(name='Result', value='', disabled=True)\n",
    "convert_button = pn.widgets.Button(name='Convert', button_type='primary', background='#ADD8E6')\n",
    "convert_button.on_click(update_conversion_result)\n",
    "\n",
    "# Create the currency converter panel\n",
    "currency_converter = pn.Column(\"Dynamic Currency Converter\", from_currency_widget, to_currency_widget, amount_widget, convert_button, conversion_result_widget)\n",
    "\n",
    "# Display the dashboard in a pop-up window\n",
    "dashboard = pn.Tabs(('Converter', currency_converter))\n",
    "dashboard.show()\n",
    "\n",
    "\n",
    "\n",
    "\n",
    "# Complete code for the currency converter above -----------------------------------------------------\n"
   ]
  },
  {
   "cell_type": "code",
   "execution_count": null,
   "id": "2b69e70b-190f-449e-aad3-c80c632c290e",
   "metadata": {},
   "outputs": [],
   "source": []
  }
 ],
 "metadata": {
  "kernelspec": {
   "display_name": "Python 3 (ipykernel)",
   "language": "python",
   "name": "python3"
  },
  "language_info": {
   "codemirror_mode": {
    "name": "ipython",
    "version": 3
   },
   "file_extension": ".py",
   "mimetype": "text/x-python",
   "name": "python",
   "nbconvert_exporter": "python",
   "pygments_lexer": "ipython3",
   "version": "3.7.13"
  }
 },
 "nbformat": 4,
 "nbformat_minor": 5
}
